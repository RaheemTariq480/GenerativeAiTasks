{
  "cells": [
    {
      "cell_type": "code",
      "execution_count": 3,
      "metadata": {
        "colab": {
          "base_uri": "https://localhost:8080/"
        },
        "id": "85Us4loFUIaY",
        "outputId": "7519c17e-c6b5-45ac-f6e9-bddd09a73da8"
      },
      "outputs": [
        {
          "name": "stdout",
          "output_type": "stream",
          "text": [
            "Collecting openai\n",
            "  Downloading openai-1.35.5-py3-none-any.whl (327 kB)\n",
            "\u001b[?25l     \u001b[90m━━━━━━━━━━━━━━━━━━━━━━━━━━━━━━━━━━━━━━━━\u001b[0m \u001b[32m0.0/327.5 kB\u001b[0m \u001b[31m?\u001b[0m eta \u001b[36m-:--:--\u001b[0m\r\u001b[2K     \u001b[91m━━━━━━━━━━━━━━━━━\u001b[0m\u001b[91m╸\u001b[0m\u001b[90m━━━━━━━━━━━━━━━━━━━━━━\u001b[0m \u001b[32m143.4/327.5 kB\u001b[0m \u001b[31m4.2 MB/s\u001b[0m eta \u001b[36m0:00:01\u001b[0m\r\u001b[2K     \u001b[90m━━━━━━━━━━━━━━━━━━━━━━━━━━━━━━━━━━━━━━━━\u001b[0m \u001b[32m327.5/327.5 kB\u001b[0m \u001b[31m4.7 MB/s\u001b[0m eta \u001b[36m0:00:00\u001b[0m\n",
            "\u001b[?25hRequirement already satisfied: anyio<5,>=3.5.0 in /usr/local/lib/python3.10/dist-packages (from openai) (3.7.1)\n",
            "Requirement already satisfied: distro<2,>=1.7.0 in /usr/lib/python3/dist-packages (from openai) (1.7.0)\n",
            "Collecting httpx<1,>=0.23.0 (from openai)\n",
            "  Downloading httpx-0.27.0-py3-none-any.whl (75 kB)\n",
            "\u001b[2K     \u001b[90m━━━━━━━━━━━━━━━━━━━━━━━━━━━━━━━━━━━━━━━━\u001b[0m \u001b[32m75.6/75.6 kB\u001b[0m \u001b[31m4.6 MB/s\u001b[0m eta \u001b[36m0:00:00\u001b[0m\n",
            "\u001b[?25hRequirement already satisfied: pydantic<3,>=1.9.0 in /usr/local/lib/python3.10/dist-packages (from openai) (2.7.4)\n",
            "Requirement already satisfied: sniffio in /usr/local/lib/python3.10/dist-packages (from openai) (1.3.1)\n",
            "Requirement already satisfied: tqdm>4 in /usr/local/lib/python3.10/dist-packages (from openai) (4.66.4)\n",
            "Requirement already satisfied: typing-extensions<5,>=4.7 in /usr/local/lib/python3.10/dist-packages (from openai) (4.12.2)\n",
            "Requirement already satisfied: idna>=2.8 in /usr/local/lib/python3.10/dist-packages (from anyio<5,>=3.5.0->openai) (3.7)\n",
            "Requirement already satisfied: exceptiongroup in /usr/local/lib/python3.10/dist-packages (from anyio<5,>=3.5.0->openai) (1.2.1)\n",
            "Requirement already satisfied: certifi in /usr/local/lib/python3.10/dist-packages (from httpx<1,>=0.23.0->openai) (2024.6.2)\n",
            "Collecting httpcore==1.* (from httpx<1,>=0.23.0->openai)\n",
            "  Downloading httpcore-1.0.5-py3-none-any.whl (77 kB)\n",
            "\u001b[2K     \u001b[90m━━━━━━━━━━━━━━━━━━━━━━━━━━━━━━━━━━━━━━━━\u001b[0m \u001b[32m77.9/77.9 kB\u001b[0m \u001b[31m7.0 MB/s\u001b[0m eta \u001b[36m0:00:00\u001b[0m\n",
            "\u001b[?25hCollecting h11<0.15,>=0.13 (from httpcore==1.*->httpx<1,>=0.23.0->openai)\n",
            "  Downloading h11-0.14.0-py3-none-any.whl (58 kB)\n",
            "\u001b[2K     \u001b[90m━━━━━━━━━━━━━━━━━━━━━━━━━━━━━━━━━━━━━━━━\u001b[0m \u001b[32m58.3/58.3 kB\u001b[0m \u001b[31m6.5 MB/s\u001b[0m eta \u001b[36m0:00:00\u001b[0m\n",
            "\u001b[?25hRequirement already satisfied: annotated-types>=0.4.0 in /usr/local/lib/python3.10/dist-packages (from pydantic<3,>=1.9.0->openai) (0.7.0)\n",
            "Requirement already satisfied: pydantic-core==2.18.4 in /usr/local/lib/python3.10/dist-packages (from pydantic<3,>=1.9.0->openai) (2.18.4)\n",
            "Installing collected packages: h11, httpcore, httpx, openai\n",
            "Successfully installed h11-0.14.0 httpcore-1.0.5 httpx-0.27.0 openai-1.35.5\n"
          ]
        }
      ],
      "source": [
        "# !pip install --upgrade openai\n",
        "# !pip install python-dotenv"
      ]
    },
    {
      "cell_type": "code",
      "execution_count": 68,
      "metadata": {
        "colab": {
          "base_uri": "https://localhost:8080/"
        },
        "id": "EyceMtLqUsCm",
        "outputId": "f46b094a-4e60-42f2-f409-29d4bbccee58"
      },
      "outputs": [],
      "source": [
        "from dotenv import load_dotenv\n",
        "import os\n",
        "\n",
        "load_dotenv()\n",
        "my_secret_key = os.getenv(\"API_KEY\")"
      ]
    },
    {
      "cell_type": "code",
      "execution_count": 11,
      "metadata": {
        "id": "aYfFx9R4U8u6"
      },
      "outputs": [],
      "source": [
        "from openai import OpenAI"
      ]
    },
    {
      "cell_type": "code",
      "execution_count": 12,
      "metadata": {
        "id": "wX7OM-CnVX-C"
      },
      "outputs": [],
      "source": [
        "client = OpenAI(api_key=my_secret_key)"
      ]
    },
    {
      "cell_type": "code",
      "execution_count": 49,
      "metadata": {
        "id": "wwwY7qC2VcFF"
      },
      "outputs": [],
      "source": [
        "def gpt_response(prompt):\n",
        "  completion = client.chat.completions.create(\n",
        "  model=\"gpt-3.5-turbo\",\n",
        "  messages=[\n",
        "      # {\"role\": \"system\", \"content\": \"You are a poetic assistant, skilled in explaining complex programming concepts with creative flair.\"},\n",
        "       {\"role\": \"user\", \"content\": prompt}\n",
        "    ]\n",
        "  )\n",
        "  return completion.choices[0].message\n",
        "\n"
      ]
    },
    {
      "cell_type": "code",
      "execution_count": 51,
      "metadata": {
        "id": "ExByVgUPd4Bq"
      },
      "outputs": [],
      "source": [
        "ai_prompt = \"you are a social media manager that can takes the questions and answers provided by the user \\\n",
        "and convert them into social media posts\\\n",
        "for the format of the post to be generated follow the format in angle brackets'\\\n",
        "<start with a catchy line or a question to engage the reader> \\n \\\n",
        "<write short brief information about the answers, in form of a paragraph with 3 to 4 lines,being dicussed in the answers>\\n \\\n",
        "<must use emojies with bullet points to summarize the information> \\n \\\n",
        "<end with a conclusion to complete your post>\""
      ]
    },
    {
      "cell_type": "code",
      "execution_count": 52,
      "metadata": {
        "id": "HUuHr6MI4MAj"
      },
      "outputs": [],
      "source": [
        "questions= [\n",
        "    \"Q1. Can you describe the specific case study or transformation story you want to share?\",\n",
        "    \"Q2. What challenge or problem was addressed in this case?\",\n",
        "    \"Q3. What were the key results or outcomes achieved in this story?\",\n",
        "    \"Q4. Are there any data, quotes, or testimonials that illustrate the impact?\",\n",
        "    \"Q5. Is there a specific call-to-action?\",\n",
        "    \"Q6. Are there any specific hashtags you’d like to include?\",\n",
        "    \"Q7. Describe your desired tone and style.\"\n",
        "    ]"
      ]
    },
    {
      "cell_type": "code",
      "execution_count": 60,
      "metadata": {
        "id": "Y036DlB7Ccsh"
      },
      "outputs": [],
      "source": [
        "answers = [\n",
        "    \"Wrap Ladz in islamabad has partnered with Coca Cola in order to offer better discounts on the meal\",\n",
        "    \"People always enjoy a chilled drink with there food therefore with this partnership Wrap Ladz is able to give significant to the customers\",\n",
        "    \"initially food chain was only working in a specific sector of islamabad but now has reached entire islamabad\",\n",
        "    \"'Wrap Ladz is the only food chain restaurant that has a secret recipe for the bread they use in there wraps and shawarmas'\",\n",
        "    \"Join us in f11 markaz near OSAS mall to enjoy the meal\",\n",
        "    \"#WrapTheCoke\",\n",
        "    \"make it sound Excited, poppy and make sure to begin the post with the secret bread recipe fact\",]\n"
      ]
    },
    {
      "cell_type": "code",
      "execution_count": 61,
      "metadata": {
        "colab": {
          "base_uri": "https://localhost:8080/"
        },
        "id": "-HJLwTOW6QlM",
        "outputId": "9e3eb90c-7fa1-4521-e246-20a1eba9484b"
      },
      "outputs": [
        {
          "name": "stdout",
          "output_type": "stream",
          "text": [
            "Q1. Can you describe the specific case study or transformation story you want to share?\n",
            "Q2. What challenge or problem was addressed in this case?\n",
            "Q3. What were the key results or outcomes achieved in this story?\n",
            "Q4. Are there any data, quotes, or testimonials that illustrate the impact?\n",
            "Q5. Is there a specific call-to-action?\n",
            "Q6. Are there any specific hashtags you’d like to include?\n",
            "Q7. Describe your desired tone and style.\n"
          ]
        }
      ],
      "source": [
        "tmp = []\n",
        "count = 0\n",
        "for i in questions:\n",
        "  print(i)\n",
        "  # user_answer = str(input(\"\\n\"))\n",
        "  user_answer = \"A\" + str(questions.index(i)+1) + \". \" + answers[count]\n",
        "  count = count + 1\n",
        "  tmp.append(i)\n",
        "  tmp.append(user_answer)"
      ]
    },
    {
      "cell_type": "code",
      "execution_count": 65,
      "metadata": {
        "colab": {
          "base_uri": "https://localhost:8080/"
        },
        "id": "Kv-cHLmD6gFd",
        "outputId": "89b727de-16b1-4890-b318-e5d79d8c8b17"
      },
      "outputs": [
        {
          "name": "stdout",
          "output_type": "stream",
          "text": [
            "Q1. Can you describe the specific case study or transformation story you want to share?\n",
            "A1. Wrap Ladz in islamabad has partnered with Coca Cola in order to offer better discounts on the meal\n",
            "Q2. What challenge or problem was addressed in this case?\n",
            "A2. People always enjoy a chilled drink with there food therefore with this partnership Wrap Ladz is able to give significant to the customers\n",
            "Q3. What were the key results or outcomes achieved in this story?\n",
            "A3. initially food chain was only working in a specific sector of islamabad but now has reached entire islamabad\n",
            "Q4. Are there any data, quotes, or testimonials that illustrate the impact?\n",
            "A4. 'Wrap Ladz is the only food chain restaurant that has a secret recipe for the bread they use in there wraps and shawarmas'\n",
            "Q5. Is there a specific call-to-action?\n",
            "A5. Join us in f11 markaz near OSAS mall to enjoy the meal\n",
            "Q6. Are there any specific hashtags you’d like to include?\n",
            "A6. #WrapTheCoke\n",
            "Q7. Describe your desired tone and style.\n",
            "A7. make it sound Excited, poppy and make sure to begin the post with the secret bread recipe fact\n"
          ]
        }
      ],
      "source": [
        "complete_prompt = \"\"\n",
        "complete_prompt = ai_prompt + \"\\n below is the questions and the answers provided by the user dilimited in triple backticks \\n```\" + \"\\n\"\n",
        "\n",
        "for i in tmp:\n",
        "  print(i)\n",
        "  complete_prompt = complete_prompt + i + \"\\n\"\n",
        "complete_prompt = complete_prompt + \"```\""
      ]
    },
    {
      "cell_type": "code",
      "execution_count": 66,
      "metadata": {
        "colab": {
          "base_uri": "https://localhost:8080/"
        },
        "id": "kZVi6PwJ8fsb",
        "outputId": "190913f2-f619-4fa7-8a36-90396ce1220d"
      },
      "outputs": [
        {
          "name": "stdout",
          "output_type": "stream",
          "text": [
            "you are a social media manager that can takes the questions and answers provided by the user and convert them into social media postsfor the format of the post to be generated follow the format in angle brackets'<start with a catchy line or a question to engage the reader> \n",
            " <write short brief information about the answers, in form of a paragraph with 3 to 4 lines,being dicussed in the answers>\n",
            " <must use emojies with bullet points to summarize the information> \n",
            " <end with a conclusion to complete your post>\n",
            " below is the questions and the answers provided by the user dilimited in triple backticks \n",
            "```\n",
            "Q1. Can you describe the specific case study or transformation story you want to share?\n",
            "A1. Wrap Ladz in islamabad has partnered with Coca Cola in order to offer better discounts on the meal\n",
            "Q2. What challenge or problem was addressed in this case?\n",
            "A2. People always enjoy a chilled drink with there food therefore with this partnership Wrap Ladz is able to give significant to the customers\n",
            "Q3. What were the key results or outcomes achieved in this story?\n",
            "A3. initially food chain was only working in a specific sector of islamabad but now has reached entire islamabad\n",
            "Q4. Are there any data, quotes, or testimonials that illustrate the impact?\n",
            "A4. 'Wrap Ladz is the only food chain restaurant that has a secret recipe for the bread they use in there wraps and shawarmas'\n",
            "Q5. Is there a specific call-to-action?\n",
            "A5. Join us in f11 markaz near OSAS mall to enjoy the meal\n",
            "Q6. Are there any specific hashtags you’d like to include?\n",
            "A6. #WrapTheCoke\n",
            "Q7. Describe your desired tone and style.\n",
            "A7. make it sound Excited, poppy and make sure to begin the post with the secret bread recipe fact\n",
            "```\n"
          ]
        }
      ],
      "source": [
        "print(complete_prompt)"
      ]
    },
    {
      "cell_type": "code",
      "execution_count": 67,
      "metadata": {
        "colab": {
          "base_uri": "https://localhost:8080/"
        },
        "id": "VlBWCK6xAWyY",
        "outputId": "82202e66-4e7d-4c80-a710-81f1bad3b1c5"
      },
      "outputs": [
        {
          "name": "stdout",
          "output_type": "stream",
          "text": [
            "<Did you know that Wrap Ladz in Islamabad has a secret recipe for the bread used in their wraps and shawarmas? 🌯✨ Partnered with Coca Cola to offer great discounts, this food chain has expanded its reach from a specific sector to the entire Islamabad! 🌟 #WrapTheCoke>\n",
            "\n",
            "🔸 Wrap Ladz in Islamabad partnered with Coca Cola to provide better discounts on meals.\n",
            "🔸 Customers can now enjoy a chilled drink with their food, thanks to this collaboration.\n",
            "🔸 The food chain has expanded its presence from a specific sector to the entire city.\n",
            "🔸 Wrap Ladz is known for its secret recipe for the bread used in wraps and shawarmas.\n",
            "\n",
            "<Join us at F11 Markaz near OSAS mall to savor the delicious meal and experience the unique taste! #WrapTheCoke 🥪🥤>\n"
          ]
        }
      ],
      "source": [
        "x = gpt_response(complete_prompt)\n",
        "print(x.content)\n"
      ]
    },
    {
      "cell_type": "code",
      "execution_count": null,
      "metadata": {
        "id": "zq96xxynAa_V"
      },
      "outputs": [],
      "source": [
        "# previous response by the LLM \n",
        "<Did you know Wrap Ladz in Islamabad has a secret recipe for their bread used in wraps and shawarmas? 🌯✨>\n",
        "\n",
        "Wrap Ladz in Islamabad has partnered with Coca Cola to offer better discounts on meals, addressing the challenge of providing customers with a chilled drink to accompany their food. 🥤💥\n",
        "\n",
        "- Now available in entire Islamabad 🌆🍽️\n",
        "- Unique secret recipe for bread 🍞🤫\n",
        "- Special discounts for customers 🎉💰\n",
        "\n",
        "Join us in F11 Markaz near OSAS mall to enjoy a delicious meal and experience the secret behind the famous bread recipe! Don't miss out on the #WrapTheCoke experience! 🔥🥤\n",
        "\n",
        "#Excited #Poppy #SecretRecipeFact 🎉🥪"
      ]
    }
  ],
  "metadata": {
    "colab": {
      "provenance": []
    },
    "kernelspec": {
      "display_name": "Python 3",
      "name": "python3"
    },
    "language_info": {
      "codemirror_mode": {
        "name": "ipython",
        "version": 3
      },
      "file_extension": ".py",
      "mimetype": "text/x-python",
      "name": "python",
      "nbconvert_exporter": "python",
      "pygments_lexer": "ipython3",
      "version": "3.10.12"
    }
  },
  "nbformat": 4,
  "nbformat_minor": 0
}
