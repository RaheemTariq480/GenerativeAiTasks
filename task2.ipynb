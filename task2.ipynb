{
 "cells": [
  {
   "cell_type": "code",
   "execution_count": 2,
   "metadata": {},
   "outputs": [],
   "source": [
    "%%capture --no-stderr\n",
    "!pip install -qU langchain-openai\n",
    "%pip install --upgrade --quiet  langchain langchain-community langchainhub langchain-chroma bs4"
   ]
  },
  {
   "cell_type": "code",
   "execution_count": 3,
   "metadata": {},
   "outputs": [],
   "source": [
    "from dotenv import load_dotenv\n",
    "import os\n",
    "\n",
    "load_dotenv()\n",
    "my_secret_key = os.getenv(\"API_KEY\")"
   ]
  },
  {
   "cell_type": "code",
   "execution_count": 5,
   "metadata": {},
   "outputs": [],
   "source": [
    "from langchain_openai import ChatOpenAI\n",
    "\n",
    "llm = ChatOpenAI(model=\"gpt-3.5-turbo-0125\", api_key=my_secret_key)"
   ]
  },
  {
   "cell_type": "code",
   "execution_count": 74,
   "metadata": {},
   "outputs": [],
   "source": [
    "from langchain.chains import create_retrieval_chain\n",
    "from langchain.chains.combine_documents import create_stuff_documents_chain\n",
    "from langchain_chroma import Chroma\n",
    "from langchain_community.document_loaders import CSVLoader\n",
    "from langchain_core.prompts import ChatPromptTemplate\n",
    "from langchain_openai import OpenAIEmbeddings\n",
    "from langchain_text_splitters import RecursiveCharacterTextSplitter\n",
    "import pandas as pd"
   ]
  },
  {
   "cell_type": "code",
   "execution_count": 12,
   "metadata": {},
   "outputs": [
    {
     "data": {
      "text/html": [
       "<div>\n",
       "<style scoped>\n",
       "    .dataframe tbody tr th:only-of-type {\n",
       "        vertical-align: middle;\n",
       "    }\n",
       "\n",
       "    .dataframe tbody tr th {\n",
       "        vertical-align: top;\n",
       "    }\n",
       "\n",
       "    .dataframe thead th {\n",
       "        text-align: right;\n",
       "    }\n",
       "</style>\n",
       "<table border=\"1\" class=\"dataframe\">\n",
       "  <thead>\n",
       "    <tr style=\"text-align: right;\">\n",
       "      <th></th>\n",
       "      <th>Name</th>\n",
       "      <th>Field of study</th>\n",
       "      <th>Year of study</th>\n",
       "      <th>List of subjects</th>\n",
       "      <th>Preferred Learning Styles</th>\n",
       "      <th>Personal Objectives</th>\n",
       "      <th>Challenges</th>\n",
       "      <th>Extracurricular activities</th>\n",
       "    </tr>\n",
       "  </thead>\n",
       "  <tbody>\n",
       "    <tr>\n",
       "      <th>0</th>\n",
       "      <td>Alice Smith</td>\n",
       "      <td>Computer Science</td>\n",
       "      <td>2</td>\n",
       "      <td>Data Structures;Algorithms;Operating Systems</td>\n",
       "      <td>Visual;Kinesthetic</td>\n",
       "      <td>Prepare for internship interviews</td>\n",
       "      <td>Time management</td>\n",
       "      <td>Robotics Club;Coding Competitions</td>\n",
       "    </tr>\n",
       "    <tr>\n",
       "      <th>1</th>\n",
       "      <td>John Doe</td>\n",
       "      <td>Biology</td>\n",
       "      <td>3</td>\n",
       "      <td>Genetics;Microbiology;Biochemistry</td>\n",
       "      <td>Auditory</td>\n",
       "      <td>Graduate with honors</td>\n",
       "      <td>Test anxiety</td>\n",
       "      <td>Debate Team;Volunteering at Animal Shelter</td>\n",
       "    </tr>\n",
       "    <tr>\n",
       "      <th>2</th>\n",
       "      <td>Mary Johnson</td>\n",
       "      <td>Mathematics</td>\n",
       "      <td>1</td>\n",
       "      <td>Calculus;Linear Algebra;Discrete Mathematics</td>\n",
       "      <td>Visual</td>\n",
       "      <td>Excel in all exams</td>\n",
       "      <td>Understanding abstract concepts</td>\n",
       "      <td>Math Club;Chess Club</td>\n",
       "    </tr>\n",
       "    <tr>\n",
       "      <th>3</th>\n",
       "      <td>Robert Brown</td>\n",
       "      <td>History</td>\n",
       "      <td>4</td>\n",
       "      <td>Modern History;Ancient Civilizations;World Wars</td>\n",
       "      <td>Auditory;Visual</td>\n",
       "      <td>Prepare for graduate school</td>\n",
       "      <td>Essay writing</td>\n",
       "      <td>Historical Reenactment Society;Student Council</td>\n",
       "    </tr>\n",
       "    <tr>\n",
       "      <th>4</th>\n",
       "      <td>Emily Davis</td>\n",
       "      <td>Mechanical Engineering</td>\n",
       "      <td>3</td>\n",
       "      <td>Thermodynamics;Fluid Mechanics;Material Science</td>\n",
       "      <td>Kinesthetic</td>\n",
       "      <td>Develop a senior project</td>\n",
       "      <td>Complex problem solving</td>\n",
       "      <td>Formula SAE;Basketball Team</td>\n",
       "    </tr>\n",
       "  </tbody>\n",
       "</table>\n",
       "</div>"
      ],
      "text/plain": [
       "           Name          Field of study  Year of study  \\\n",
       "0   Alice Smith        Computer Science              2   \n",
       "1      John Doe                 Biology              3   \n",
       "2  Mary Johnson             Mathematics              1   \n",
       "3  Robert Brown                 History              4   \n",
       "4   Emily Davis  Mechanical Engineering              3   \n",
       "\n",
       "                                  List of subjects Preferred Learning Styles  \\\n",
       "0     Data Structures;Algorithms;Operating Systems        Visual;Kinesthetic   \n",
       "1               Genetics;Microbiology;Biochemistry                  Auditory   \n",
       "2     Calculus;Linear Algebra;Discrete Mathematics                    Visual   \n",
       "3  Modern History;Ancient Civilizations;World Wars           Auditory;Visual   \n",
       "4  Thermodynamics;Fluid Mechanics;Material Science               Kinesthetic   \n",
       "\n",
       "                 Personal Objectives                       Challenges  \\\n",
       "0  Prepare for internship interviews                  Time management   \n",
       "1               Graduate with honors                     Test anxiety   \n",
       "2                 Excel in all exams  Understanding abstract concepts   \n",
       "3        Prepare for graduate school                    Essay writing   \n",
       "4           Develop a senior project          Complex problem solving   \n",
       "\n",
       "                       Extracurricular activities  \n",
       "0               Robotics Club;Coding Competitions  \n",
       "1      Debate Team;Volunteering at Animal Shelter  \n",
       "2                            Math Club;Chess Club  \n",
       "3  Historical Reenactment Society;Student Council  \n",
       "4                     Formula SAE;Basketball Team  "
      ]
     },
     "execution_count": 12,
     "metadata": {},
     "output_type": "execute_result"
    }
   ],
   "source": [
    "\n",
    "df = pd.read_csv(\"Student Data Rows.csv\")\n",
    "df.head()"
   ]
  },
  {
   "cell_type": "code",
   "execution_count": 15,
   "metadata": {},
   "outputs": [],
   "source": [
    "loader = CSVLoader(file_path='Student Data Rows.csv')\n",
    "\n",
    "docs = loader.load()\n",
    "\n",
    "text_splitter = RecursiveCharacterTextSplitter(chunk_size=1000, chunk_overlap=200)\n",
    "splits = text_splitter.split_documents(docs)\n",
    "vectorstore = Chroma.from_documents(documents=splits, embedding=OpenAIEmbeddings(api_key=my_secret_key))\n",
    "retriever = vectorstore.as_retriever()\n"
   ]
  },
  {
   "cell_type": "code",
   "execution_count": null,
   "metadata": {},
   "outputs": [],
   "source": [
    "\"You are an assistant for creating personalized study plans for students.\"\n",
    "\"In the csv file you will find the following columns \"\n",
    "\"Name: the name of the student \"\n",
    "\"Field of study: which field is being studied by the student \"\n",
    "\"Year of study: number of years student is studying\"\n",
    "\"List of subjects: list of all the subjects of the student\"\n",
    "\"Preferred Learning Styles: how the student wants to learn\"\n",
    "\"Personal Objectives: what the student wants to achieve\"\n",
    "\"Challenges: what challenges the student wants to overcome\"\n",
    "\"Extracurricular activities: what the student is\""
   ]
  },
  {
   "cell_type": "code",
   "execution_count": 46,
   "metadata": {},
   "outputs": [],
   "source": [
    "# 2. Incorporate the retriever into a question-answering chain.\n",
    "system_prompt = (\n",
    "    \"You are an assistant for creating personalized study plans for students.\"\n",
    "    \"In the csv file you will find the following columns \"\n",
    "    \"Name: the name of the student \"\n",
    "    \"Field of study: which field is being studied by the student \"\n",
    "    \"Year of study: number of years student is studying\"\n",
    "    \"List of subjects: list of all the subjects of the student\"\n",
    "    \"Preferred Learning Styles: how the student wants to learn\"\n",
    "    \"Personal Objectives: what the student wants to achieve\"\n",
    "    \"Challenges: what challenges the student wants to overcome\"\n",
    "    \"Extracurricular activities: what the student is\"\n",
    "    \"if the student's name is not known only respond with 'I don't know the student'\"\n",
    "    \"Write complete study plans for the student\"\n",
    "    \"study plan should be a timeline from Monday to Friday for the student to complete there personal objectives\"\n",
    "    \"Make sure to not overwork the student with the studies, also cater for the Extracurricular activities on Saturday and Sunday\"\n",
    "    \"{context}\"\n",
    ")\n",
    "\n",
    "prompt = ChatPromptTemplate.from_messages(\n",
    "    [\n",
    "        (\"system\", system_prompt),\n",
    "        (\"human\", \"{input}\"),\n",
    "    ]\n",
    ")\n",
    "\n",
    "\n",
    "question_answer_chain = create_stuff_documents_chain(llm, prompt)\n",
    "rag_chain = create_retrieval_chain(retriever, question_answer_chain)"
   ]
  },
  {
   "cell_type": "code",
   "execution_count": 53,
   "metadata": {},
   "outputs": [
    {
     "name": "stdout",
     "output_type": "stream",
     "text": [
      "0        Alice Smith\n",
      "1           John Doe\n",
      "2       Mary Johnson\n",
      "3       Robert Brown\n",
      "4        Emily Davis\n",
      "5     Michael Wilson\n",
      "6    Sophia Martinez\n",
      "7       James Taylor\n",
      "8    Olivia Anderson\n",
      "9       David Thomas\n",
      "Name: Name, dtype: object\n"
     ]
    }
   ],
   "source": [
    "print(df[\"Name\"])"
   ]
  },
  {
   "cell_type": "code",
   "execution_count": 61,
   "metadata": {},
   "outputs": [
    {
     "name": "stdout",
     "output_type": "stream",
     "text": [
      "**Study Plan for Alice Smith:**\n",
      "\n",
      "**Monday:**\n",
      "- Data Structures: Visual learning style\n",
      "- Algorithms: Kinesthetic learning style\n",
      "\n",
      "**Tuesday:**\n",
      "- Operating Systems: Visual learning style\n",
      "\n",
      "**Wednesday:**\n",
      "- Data Structures: Kinesthetic learning style\n",
      "- Algorithms: Visual learning style\n",
      "\n",
      "**Thursday:**\n",
      "- Operating Systems: Kinesthetic learning style\n",
      "\n",
      "**Friday:**\n",
      "- Review all subjects: Visual and Kinesthetic learning styles\n",
      "\n",
      "**Saturday and Sunday:**\n",
      "- Robotics Club: Enhance programming skills\n",
      "- Coding Competitions: Apply knowledge and skills learned during the week\n",
      "\n",
      "**Additional Notes:**\n",
      "- Allocate specific time slots each day for studying to manage time effectively.\n",
      "- Practice interview questions and coding problems regularly to prepare for internship interviews.\n",
      "- Incorporate visual aids and hands-on activities in studying to cater to preferred learning styles.\n",
      "- Stay consistent with study schedule and utilize breaks for relaxation to avoid burnout.\n",
      "- Seek assistance from professors or peers if facing difficulty in understanding concepts.\n",
      "- Stay motivated and focused on the goal of preparing for internship interviews.\n"
     ]
    }
   ],
   "source": [
    "response = rag_chain.invoke({\"input\": \"create a study plane for Alice Smith?\"})\n",
    "print(response[\"answer\"])"
   ]
  },
  {
   "cell_type": "code",
   "execution_count": 70,
   "metadata": {},
   "outputs": [
    {
     "name": "stdout",
     "output_type": "stream",
     "text": [
      "**Study Plan for Mary Johnson:**\n",
      "\n",
      "**Monday:**\n",
      "- Morning: Review Calculus notes using visual aids\n",
      "- Afternoon: Practice solving Calculus problems visually\n",
      "- Evening: Study Linear Algebra with visual tools\n",
      "\n",
      "**Tuesday:**\n",
      "- Morning: Focus on understanding abstract concepts in Linear Algebra\n",
      "- Afternoon: Study Discrete Mathematics using visual examples\n",
      "- Evening: Review all subjects studied during the day\n",
      "\n",
      "**Wednesday:**\n",
      "- Morning: Practice Calculus problems with visual aids\n",
      "- Afternoon: Review Linear Algebra concepts visually\n",
      "- Evening: Study Discrete Mathematics with visual tools\n",
      "\n",
      "**Thursday:**\n",
      "- Morning: Focus on understanding abstract concepts in Discrete Mathematics\n",
      "- Afternoon: Practice solving problems visually in all subjects\n",
      "- Evening: Review all subjects studied during the day\n",
      "\n",
      "**Friday:**\n",
      "- Morning: Take practice exams for all subjects\n",
      "- Afternoon: Review any challenging topics with a visual approach\n",
      "- Evening: Prepare study materials for the weekend\n",
      "\n",
      "**Saturday and Sunday:**\n",
      "- Participate in Math Club and Chess Club activities\n",
      "\n",
      "This study plan aims to help Mary excel in all exams by utilizing her preferred visual learning style and focusing on overcoming her challenge of understanding abstract concepts. It provides a balanced schedule to ensure she is well-prepared for her exams while also allowing time for extracurricular activities on the weekend.\n"
     ]
    }
   ],
   "source": [
    "response = rag_chain.invoke({\"input\": \"create a study plane for Mary Johnson?\"})\n",
    "print(response[\"answer\"])"
   ]
  },
  {
   "cell_type": "code",
   "execution_count": 72,
   "metadata": {},
   "outputs": [
    {
     "name": "stdout",
     "output_type": "stream",
     "text": [
      "**Study Plan for Michael Wilson**\n",
      "\n",
      "**Monday:**\n",
      "- Morning: Review Cognitive Psychology (Visual)\n",
      "- Afternoon: Study Developmental Psychology (Visual)\n",
      "- Evening: Practice Public Speaking (Auditory)\n",
      "\n",
      "**Tuesday:**\n",
      "- Morning: Study Neuropsychology (Visual)\n",
      "- Afternoon: Research assistant position preparation (Visual)\n",
      "- Evening: Public speaking practice (Auditory)\n",
      "\n",
      "**Wednesday:**\n",
      "- Morning: Review Developmental Psychology (Visual)\n",
      "- Afternoon: Research assistant position preparation (Visual)\n",
      "- Evening: Public speaking practice (Auditory)\n",
      "\n",
      "**Thursday:**\n",
      "- Morning: Study Cognitive Psychology (Visual)\n",
      "- Afternoon: Prepare for Research assistant position (Visual)\n",
      "- Evening: Public speaking practice (Auditory)\n",
      "\n",
      "**Friday:**\n",
      "- Morning: Review Neuropsychology (Visual)\n",
      "- Afternoon: Research assistant position preparation (Visual)\n",
      "- Evening: Public speaking practice (Auditory)\n",
      "\n",
      "**Saturday:**\n",
      "- Morning: Yoga\n",
      "- Afternoon: Drama Club\n",
      "\n",
      "**Sunday:**\n",
      "- Morning: Relaxation\n",
      "- Afternoon: Drama Club\n",
      "\n",
      "This study plan balances the subjects of Psychology with preparation for the research assistant position and addresses the challenge of public speaking. It also allows for relaxation and participation in extracurricular activities over the weekend.\n"
     ]
    }
   ],
   "source": [
    "response = rag_chain.invoke({\"input\": \"create a study plane for Michael Wilson?\"})\n",
    "print(response[\"answer\"])"
   ]
  },
  {
   "cell_type": "code",
   "execution_count": 73,
   "metadata": {},
   "outputs": [
    {
     "name": "stdout",
     "output_type": "stream",
     "text": [
      "I don't know the student\n"
     ]
    }
   ],
   "source": [
    "response = rag_chain.invoke({\"input\": \"create a study plan for Raheem Tariq?\"})\n",
    "print(response[\"answer\"])"
   ]
  }
 ],
 "metadata": {
  "kernelspec": {
   "display_name": ".venv",
   "language": "python",
   "name": "python3"
  },
  "language_info": {
   "codemirror_mode": {
    "name": "ipython",
    "version": 3
   },
   "file_extension": ".py",
   "mimetype": "text/x-python",
   "name": "python",
   "nbconvert_exporter": "python",
   "pygments_lexer": "ipython3",
   "version": "3.10.12"
  }
 },
 "nbformat": 4,
 "nbformat_minor": 2
}
